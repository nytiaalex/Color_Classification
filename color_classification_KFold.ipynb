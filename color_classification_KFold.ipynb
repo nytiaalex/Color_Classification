{
 "cells": [
  {
   "cell_type": "markdown",
   "id": "chemical-science",
   "metadata": {},
   "source": [
    "<b>K-fold Cross Validation Model</b>"
   ]
  },
  {
   "cell_type": "code",
   "execution_count": 1,
   "id": "corrected-silicon",
   "metadata": {},
   "outputs": [],
   "source": [
    "%matplotlib inline\n",
    "import numpy as np\n",
    "import matplotlib.pyplot as plt\n",
    "import cv2\n",
    "import os"
   ]
  },
  {
   "cell_type": "code",
   "execution_count": 2,
   "id": "involved-elephant",
   "metadata": {},
   "outputs": [],
   "source": [
    "DATADIR = \"DATASET\"\n",
    "CATEDIR = [\"White\",\"Red\",\"Green\",\"Blue\",\"Black\"]"
   ]
  },
  {
   "cell_type": "code",
   "execution_count": 3,
   "id": "dental-people",
   "metadata": {},
   "outputs": [],
   "source": [
    "import tensorflow as tf\n",
    "from tensorflow.keras.models import Sequential\n",
    "from tensorflow.keras.layers import Dense, Conv2D, MaxPooling2D, Flatten\n",
    "from tensorflow.keras.utils import to_categorical"
   ]
  },
  {
   "cell_type": "code",
   "execution_count": 4,
   "id": "friendly-colon",
   "metadata": {},
   "outputs": [],
   "source": [
    "training_data = []\n",
    "IMG_SIZE = 100\n",
    "\n",
    "def create_training_data():\n",
    "    for class_folder in CATEDIR:\n",
    "        path = DATADIR+\"/\"+class_folder\n",
    "        # give an index to each class folder\n",
    "        class_index = CATEDIR.index(class_folder)\n",
    "        for img in os.listdir(path):\n",
    "            img_array = cv2.imread(path+\"/\"+img)\n",
    "            new_array = cv2.resize(img_array, (IMG_SIZE, IMG_SIZE), 3)\n",
    "            training_data.append([new_array, class_index])\n",
    "create_training_data()\n",
    "\n",
    "import random\n",
    "random.shuffle(training_data)\n",
    "\n",
    "X = []\n",
    "y = []\n",
    "\n",
    "for images, classes in training_data:\n",
    "    X.append(images)\n",
    "    y.append(classes)\n",
    "    \n",
    "X = np.array(X).reshape(-1, IMG_SIZE, IMG_SIZE, 3)\n",
    "y = np.array(y)\n",
    "\n",
    "X_cross = X / 255.0\n",
    "y_cross = to_categorical(y, 5)"
   ]
  },
  {
   "cell_type": "code",
   "execution_count": 5,
   "id": "constant-cocktail",
   "metadata": {},
   "outputs": [],
   "source": [
    "from tensorflow.keras.wrappers.scikit_learn import KerasClassifier"
   ]
  },
  {
   "cell_type": "code",
   "execution_count": 6,
   "id": "excited-speech",
   "metadata": {},
   "outputs": [],
   "source": [
    "def build_model():\n",
    "    model = Sequential()\n",
    "    model.add(Conv2D(32, (3, 3), input_shape = (IMG_SIZE, IMG_SIZE, 3), \n",
    "                     activation = \"relu\"))\n",
    "    model.add(MaxPooling2D(pool_size = (2, 2)))\n",
    "    model.add(Conv2D(32, (3, 3), activation = \"relu\"))\n",
    "    model.add(MaxPooling2D(pool_size = (2, 2)))\n",
    "    model.add(Conv2D(64, (3, 3), activation = \"relu\"))\n",
    "    model.add(MaxPooling2D(pool_size = (2, 2)))\n",
    "    model.add(Conv2D(64, (3, 3), activation = \"relu\"))\n",
    "    model.add(MaxPooling2D(pool_size = (2, 2)))\n",
    "    model.add(Conv2D(128, (3, 3), activation = \"relu\"))\n",
    "    model.add(MaxPooling2D(pool_size = (2, 2)))\n",
    "\n",
    "    model.add(Flatten())\n",
    "\n",
    "    model.add(Dense(256, activation = \"relu\"))\n",
    "    model.add(Dense(256, activation = \"relu\"))\n",
    "    model.add(Dense(len(CATEDIR), activation = \"softmax\"))\n",
    "\n",
    "    model.compile(loss = \"categorical_crossentropy\", \n",
    "                  optimizer = \"adam\", \n",
    "                  metrics = [\"accuracy\"])\n",
    "    return model"
   ]
  },
  {
   "cell_type": "code",
   "execution_count": 7,
   "id": "dietary-photography",
   "metadata": {},
   "outputs": [
    {
     "data": {
      "text/plain": [
       "array([0.88450146, 0.85587364, 0.89822137])"
      ]
     },
     "execution_count": 7,
     "metadata": {},
     "output_type": "execute_result"
    }
   ],
   "source": [
    "model_cross = KerasClassifier(build_fn = build_model, epochs = 10, verbose = 0)\n",
    "\n",
    "from sklearn.model_selection import cross_val_score, KFold\n",
    "\n",
    "cv = KFold(3, shuffle = True)\n",
    "scores = cross_val_score(model_cross, X_cross, y_cross, cv = cv)\n",
    "\n",
    "scores"
   ]
  },
  {
   "cell_type": "code",
   "execution_count": 8,
   "id": "valued-agent",
   "metadata": {},
   "outputs": [
    {
     "name": "stdout",
     "output_type": "stream",
     "text": [
      "Accuracy 0.8795 ~ 0.0176\n"
     ]
    }
   ],
   "source": [
    "print(\"Accuracy {:0.4f} ~ {:0.4f}\" .format(scores.mean(), scores.std()))"
   ]
  }
 ],
 "metadata": {
  "kernelspec": {
   "display_name": "Python 3",
   "language": "python",
   "name": "python3"
  },
  "language_info": {
   "codemirror_mode": {
    "name": "ipython",
    "version": 3
   },
   "file_extension": ".py",
   "mimetype": "text/x-python",
   "name": "python",
   "nbconvert_exporter": "python",
   "pygments_lexer": "ipython3",
   "version": "3.7.9"
  }
 },
 "nbformat": 4,
 "nbformat_minor": 5
}
